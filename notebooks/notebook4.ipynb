{
 "cells": [
  {
   "cell_type": "markdown",
   "metadata": {
    "colab_type": "text",
    "id": "view-in-github"
   },
   "source": [
    "<a href=\"https://colab.research.google.com/github/anuga-community/anuga-clinic/blob/master/notebooks/notebook4.ipynb\" target=\"_parent\"><img src=\"https://colab.research.google.com/assets/colab-badge.svg\" alt=\"Open In Colab\"/></a>"
   ]
  },
  {
   "cell_type": "markdown",
   "metadata": {
    "colab_type": "text",
    "id": "MFkDMm10DPK7"
   },
   "source": [
    "# CSDMS ANUGA Clinic 2018\n",
    "\n",
    "## Notebook 4: Setting up a Pumping Operator separated by a River Wall\n",
    "\n",
    "Here we go through the process of creating an operator (fractional step operator) which implements a simple pump, and separate the inlet from the outlet with a River wall.  \n",
    "\n",
    "### Installation\n",
    "\n",
    "These notebooks have been designed to run in the google `colaboratory` environment, which provides a jupyter notebook environment running on a virtual machine on the cloud. To use this environment you need a google account so that your notebook can be saved on google drive. \n",
    "\n",
    "To start interacting with the notebook follow the \n",
    "`View in Colaboratory` link above. "
   ]
  },
  {
   "cell_type": "markdown",
   "metadata": {
    "colab_type": "text",
    "id": "Dt-Ti7kdQX3C"
   },
   "source": [
    "## Setup Environment\n",
    "\n",
    "If on github, first follow the link `View in Colaboratory' to start running on google's colab environment. Then ....\n",
    "\n",
    "Run the following cell to install the dependencies and some extra code for visualising on Colaboratory.\n",
    "\n",
    "Wait until you see the comment *(4) Ready to go* before proceeding to subsequent commands. \n",
    "\n",
    "The install should take less than a minute (and quicker if you have already run this earlier)."
   ]
  },
  {
   "cell_type": "code",
   "execution_count": null,
   "metadata": {
    "colab": {},
    "colab_type": "code",
    "id": "xdCgMgk7_ZcW"
   },
   "outputs": [],
   "source": [
    "import os\n",
    "import sys\n",
    "\n",
    "try:\n",
    "  # On colab we can install all the packages we need via the notebook\n",
    "  #\n",
    "  # First download the clinic repository\n",
    "\n",
    "  HOME = '/content'\n",
    "  import os\n",
    "  os.chdir(HOME)\n",
    "  !git clone https://github.com/anuga-community/anuga-clinic.git\n",
    "\n",
    "  # Now install environment using tool\n",
    "  !/bin/bash /content/anuga-clinic/anuga_tools/install_anuga_colab.sh\n",
    " \n",
    "except:\n",
    "  from pathlib import Path\n",
    "  HOME = str(Path.home())"
   ]
  },
  {
   "cell_type": "markdown",
   "metadata": {
    "colab_type": "text",
    "id": "uCN-Ah6pIg2k"
   },
   "source": [
    "### Import ANUGA and Tools\n",
    "\n",
    "Once `anuga_clinic` and `anuga` have been installed we can now `import` our standard libraries."
   ]
  },
  {
   "cell_type": "code",
   "execution_count": null,
   "metadata": {
    "colab": {},
    "colab_type": "code",
    "id": "ZOHiEet7IYhe"
   },
   "outputs": [],
   "source": [
    "import numpy as np\n",
    "import matplotlib.pyplot as plt\n",
    "%matplotlib inline\n",
    "\n",
    "# Allow inline jshtml animations\n",
    "from matplotlib import rc\n",
    "rc('animation', html='jshtml')\n",
    "\n",
    "import anuga"
   ]
  },
  {
   "cell_type": "markdown",
   "metadata": {
    "colab_type": "text",
    "id": "n6CIHtFYYbkx"
   },
   "source": [
    "## The Code \n",
    "\n",
    "This code is taken from `anuga_core/examples/structures/run_pump.py`.\n"
   ]
  },
  {
   "cell_type": "markdown",
   "metadata": {
    "colab_type": "text",
    "id": "m9Jj58FyL7oe"
   },
   "source": [
    "### Parameters to Setup Domain\n",
    "\n"
   ]
  },
  {
   "cell_type": "code",
   "execution_count": null,
   "metadata": {
    "colab": {},
    "colab_type": "code",
    "id": "1l0-N381KKGO"
   },
   "outputs": [],
   "source": [
    "boundaryPolygon = [ [0., 0.], [0., 100.], [100.0, 100.0], [100.0, 0.0]]\n",
    "wallLoc = 50.\n",
    "# The boundary polygon + riverwall breaks the mesh into multiple regions\n",
    "# Must define the resolution in these areas with an xy point + maximum area\n",
    "# Otherwise triangle.c gets confused\n",
    "length = 2.0\n",
    "res = length*length*0.5\n",
    "regionPtAreas = [ [99., 99., res],\n",
    "                  [1., 1., res],\n",
    "                  [45, 50, res],\n",
    "                  [55, 50, res]]\n",
    "\n",
    "wallHeight=10.\n",
    "InitialOceanStage=2.\n",
    "InitialLandStage=6.\n"
   ]
  },
  {
   "cell_type": "markdown",
   "metadata": {
    "colab_type": "text",
    "id": "asQCz8wjQnbf"
   },
   "source": [
    "### RiverWall Setup and Utility Procedure\n",
    "\n",
    "We will be setting up a `riverwall` which implicitly has an associated polyline. Setup a procedure to pull out this polyline so that it can be used in the construction of the `domain`.\n",
    "\n"
   ]
  },
  {
   "cell_type": "code",
   "execution_count": null,
   "metadata": {
    "colab": {},
    "colab_type": "code",
    "id": "mSt6iBYLQnuo"
   },
   "outputs": [],
   "source": [
    "riverWall = { 'centralWall':\n",
    "                           [ [wallLoc, 0.0, wallHeight],\n",
    "                             [wallLoc, 100.0, wallHeight]] \n",
    "                        }\n",
    "\n",
    "riverWall_Par = {'centralWall':{'Qfactor':1.0}}\n",
    "\n",
    "def toPolyline(riverWall):\n",
    "  return [np.array(list(riverWall.values())[0])[:,0:2].tolist()]"
   ]
  },
  {
   "cell_type": "markdown",
   "metadata": {
    "colab_type": "text",
    "id": "uNFTBGMLRepO"
   },
   "source": [
    "### Setup Pump geometry\n",
    "\n",
    "First setup the inlet and outlet polygonal regions of the pump. "
   ]
  },
  {
   "cell_type": "code",
   "execution_count": null,
   "metadata": {
    "colab": {},
    "colab_type": "code",
    "id": "7yMvW8gywa_F"
   },
   "outputs": [],
   "source": [
    "end_point0 = [49.0,50.0]\n",
    "end_point1 = [51.0,50.0]\n",
    "\n",
    "end_points = [end_point0, end_point1]\n",
    "\n",
    "inlet1_poly = [[[end_point0[0]-10, 45.0],[end_point0[0]-10,55],\n",
    "                [end_point0[0],55],[end_point0[0],45],[end_point0[0]-10, 45.0]]]\n",
    "              \n",
    "inlet2_poly = [[[end_point1[0], 45.0],[end_point1[0],55],\n",
    "                [end_point1[0]+10,55],[end_point1[0]+10,45],[end_point1[0], 45.0]]]\n",
    "              "
   ]
  },
  {
   "cell_type": "markdown",
   "metadata": {
    "colab_type": "text",
    "id": "EnFwhpcfQFID"
   },
   "source": [
    "### Create and Setup Domain\n",
    "\n",
    "Create  a domain with a breakline down the middle (where the riverWall will occur) and two polygonal regions where the inlet and oulet polygons will sit. "
   ]
  },
  {
   "cell_type": "code",
   "execution_count": null,
   "metadata": {
    "colab": {},
    "colab_type": "code",
    "id": "kYnnXxk-QFax"
   },
   "outputs": [],
   "source": [
    "domain = anuga.create_domain_from_regions(boundaryPolygon, \n",
    "                           boundary_tags={'left': [0],\n",
    "                                        'top': [1],\n",
    "                                        'right': [2],\n",
    "                                        'bottom': [3]},\n",
    "                           maximum_triangle_area = 10.0,\n",
    "                           minimum_triangle_angle = 28.0,\n",
    "                           interior_regions =[ ], #[ [higherResPolygon, 1.*1.*0.5],\n",
    "                                                  #  [midResPolygon, 3.0*3.0*0.5]],\n",
    "                           breaklines=toPolyline(riverWall)+inlet1_poly+inlet2_poly,\n",
    "                           regionPtArea=regionPtAreas,\n",
    "                           use_cache=False,\n",
    "                           verbose=False\n",
    "                           )\n",
    "\n",
    "\n",
    "#domain.set_flow_algorithm('DE1')\n",
    "domain.set_name('run_pump')\n",
    "domain.set_store_vertices_uniquely(True)\n",
    "\n",
    "d_plotter = anuga.Domain_plotter(domain)"
   ]
  },
  {
   "cell_type": "markdown",
   "metadata": {
    "colab_type": "text",
    "id": "EmtgsITKO_A4"
   },
   "source": [
    "### Setup Initial Conditions\n",
    "\n",
    "We will have a slight slope down towards the right, with water height `InitialOceanStage` on the  right, and `InitialLandStage` on the left."
   ]
  },
  {
   "cell_type": "code",
   "execution_count": null,
   "metadata": {
    "colab": {},
    "colab_type": "code",
    "id": "83zqqhutO_Vt"
   },
   "outputs": [],
   "source": [
    "def topography(x,y):\n",
    "    return -x/150. \n",
    "\n",
    "def stagefun(x,y):\n",
    "    stg = InitialOceanStage*(x>=wallLoc) + InitialLandStage*(x<wallLoc)\n",
    "    return stg \n",
    "\n",
    "\n",
    "# NOTE: Setting quantities at centroids is important for exactness of tests\n",
    "domain.set_quantity('elevation',topography,location='centroids')     \n",
    "domain.set_quantity('stage', stagefun,location='centroids')    "
   ]
  },
  {
   "cell_type": "markdown",
   "metadata": {
    "colab_type": "text",
    "id": "K_h6MlQFNsbD"
   },
   "source": [
    "### Setup RiverWall \n",
    "\n",
    "From the `riverWall` polyline and elevation data create a riverWall  `operator`. Looking back at the definition of `riverWall` we see that this will create a wall of height `wallHeight` down the middle of the domain. "
   ]
  },
  {
   "cell_type": "code",
   "execution_count": null,
   "metadata": {
    "colab": {},
    "colab_type": "code",
    "id": "z3C0XzD4Ns8r"
   },
   "outputs": [],
   "source": [
    "domain.riverwallData.create_riverwalls(riverWall,riverWall_Par,verbose=False) "
   ]
  },
  {
   "cell_type": "markdown",
   "metadata": {
    "colab_type": "text",
    "id": "RQih8Hn9N7Hk"
   },
   "source": [
    "### Boundary conditions\n",
    "\n",
    "Simple reflective BC all around\n"
   ]
  },
  {
   "cell_type": "code",
   "execution_count": null,
   "metadata": {
    "colab": {},
    "colab_type": "code",
    "id": "Ipai69CAN4Gv"
   },
   "outputs": [],
   "source": [
    "Br = anuga.Reflective_boundary(domain)\n",
    "domain.set_boundary({'left': Br, 'right': Br, 'top': Br, 'bottom':Br})"
   ]
  },
  {
   "cell_type": "markdown",
   "metadata": {
    "colab_type": "text",
    "id": "o2ew3M_qNKw3"
   },
   "source": [
    "### Setup pump Operator\n",
    "\n",
    "(1) First setup the pump characteristics\n",
    "\n",
    "(2) Then locate and create the pump using the operator"
   ]
  },
  {
   "cell_type": "code",
   "execution_count": null,
   "metadata": {
    "colab": {},
    "colab_type": "code",
    "id": "QnzR4HquNLgL"
   },
   "outputs": [],
   "source": [
    "pump_function = anuga.pumping_station_function(\n",
    "            domain=domain,\n",
    "            pump_capacity=100.0,\n",
    "            hw_to_start_pumping=0.0,\n",
    "            hw_to_stop_pumping=-1.0,\n",
    "            initial_pump_rate=100.0, \n",
    "            pump_rate_of_increase = 50.0, \n",
    "            pump_rate_of_decrease = 50.0, \n",
    "            verbose=True)\n",
    "\n",
    "\n",
    "end_points = [[49.0,50.0],[51.0,50.0]]\n",
    "pump = anuga.Internal_boundary_operator(domain, pump_function,\n",
    "                                        width = 10.0,\n",
    "                                        height = 1.0,\n",
    "                                        apron = 10.0,\n",
    "                                        end_points=end_points,\n",
    "                                        verbose=True)\n"
   ]
  },
  {
   "cell_type": "markdown",
   "metadata": {
    "colab_type": "text",
    "id": "v7AZXi7uMv2v"
   },
   "source": [
    "### Evolve\n",
    "\n",
    "Monitor the amount of water on each side of the wall. The sum should remain constant, and the change should be match the pump capacity."
   ]
  },
  {
   "cell_type": "code",
   "execution_count": null,
   "metadata": {
    "colab": {},
    "colab_type": "code",
    "id": "EblPWS4CMyAQ"
   },
   "outputs": [],
   "source": [
    "region1 = anuga.Region(domain, polygon=[[0.0,0.0], [50.0,0.0], [50.0, 100.0], [0.0,100.0]])\n",
    "region2 = anuga.Region(domain, polygon=[[50.0,0.0], [100.0,0.0], [100.0, 100.0], [50.0,100.0]])\n",
    "\n",
    "for t in domain.evolve(yieldstep=2, duration=120):\n",
    "    domain.print_timestepping_statistics()\n",
    "    stage = domain.get_quantity('stage')\n",
    "    elev  = domain.get_quantity('elevation')\n",
    "    height = stage - elev\n",
    "    \n",
    "    #d_plotter.plot_depth_frame(vmin=2.0, vmax=6.0)\n",
    "\n",
    "    print (anuga.indent + 'Integral1 = ', height.get_integral(region=region1))\n",
    "    print (anuga.indent + 'Integral2 = ', height.get_integral(region=region2))\n",
    "    print (anuga.indent + 'Total Integral = ', height.get_integral())\n",
    "    #pump.print_timestepping_statistics()"
   ]
  },
  {
   "cell_type": "markdown",
   "metadata": {
    "colab_type": "text",
    "id": "QpGVChWjwi5G"
   },
   "source": [
    "## Visualise Flow\n",
    "\n",
    "Let's open up the `swwfile` and look at the evolution of the `depth` the `stage` and the `elev`."
   ]
  },
  {
   "cell_type": "code",
   "execution_count": null,
   "metadata": {
    "colab": {},
    "colab_type": "code",
    "id": "OCRY9K9R-DDX"
   },
   "outputs": [],
   "source": [
    "# Create a wrapper for contents of sww file\n",
    "swwfile = 'run_pump.sww'\n",
    "splotter = anuga.SWW_plotter(swwfile);\n",
    "\n",
    "plt.triplot(splotter.triang, linewidth = 0.4);"
   ]
  },
  {
   "cell_type": "code",
   "execution_count": null,
   "metadata": {
    "colab": {},
    "colab_type": "code",
    "id": "nSJhl9y3K_aJ"
   },
   "outputs": [],
   "source": [
    "# plot stage\n",
    "splotter.triang.set_mask(None)\n",
    "for i,time in enumerate(splotter.time):\n",
    "  #print (time)\n",
    "  splotter.save_stage_frame(frame=i, vmin=1.0, vmax=7.0)\n",
    "  \n",
    "splotter.make_stage_animation()"
   ]
  },
  {
   "cell_type": "markdown",
   "metadata": {
    "colab_type": "text",
    "id": "LHcS1-qcxfVW"
   },
   "source": [
    "## Animation\n",
    "\n",
    "We ca use the `FuncAnimation` function to animate a sequence of timeslices (in this case  `stage`)\n",
    "\n",
    "\n"
   ]
  },
  {
   "cell_type": "code",
   "execution_count": null,
   "metadata": {
    "colab": {},
    "colab_type": "code",
    "id": "cFciK00M1zUF"
   },
   "outputs": [],
   "source": [
    "def update_frame(i):\n",
    "  \n",
    "  ax.clear()\n",
    "  j = step*i\n",
    "  artist = ax.tripcolor(splotter.triang, \n",
    "              facecolors = splotter.stage[j], \n",
    "              edgecolors='k', \n",
    "              cmap='Spectral',\n",
    "              vmax = 6.0,\n",
    "              vmin = 2.0) \n",
    "  ax.set_title('Stage (time %05.2f)' % splotter.time[j],loc='right')\n",
    "  fig.colorbar(artist, cax=cax)\n",
    "  \n",
    "\n",
    "from matplotlib import animation\n",
    "  \n",
    "fig = plt.figure();\n",
    "ax = plt.gca();\n",
    "cax = fig.add_axes([0.91, 0.125, 0.03, 0.75])\n",
    "\n",
    "# increase step to skip frames; increase interval to increase movie speed\n",
    "step = 4\n",
    "anim = animation.FuncAnimation(fig, update_frame, frames=len(splotter.depth)//step, interval=200);\n",
    "\n",
    "\n",
    "plt.close()\n",
    "\n",
    "anim\n"
   ]
  },
  {
   "cell_type": "markdown",
   "metadata": {
    "colab_type": "text",
    "id": "2Mf_ALyZxo72"
   },
   "source": [
    "###  3D Surface Plots\n",
    "\n",
    "We can use the mpl module to produce some 3D plots. We need to create vertex values given the centroid values."
   ]
  },
  {
   "cell_type": "code",
   "execution_count": null,
   "metadata": {
    "colab": {},
    "colab_type": "code",
    "id": "_6bT1VYTZ0u0"
   },
   "outputs": [],
   "source": [
    "\n",
    "X = np.vstack((splotter.xc, splotter.yc)).transpose()\n",
    "E = splotter.elev\n",
    "\n",
    "splotter.nodes = np.vstack((splotter.x,splotter.y)).transpose()\n",
    "import scipy\n",
    "\n",
    "stage_v = []\n",
    "for i,S in enumerate(splotter.stage):\n",
    "  #print i, S.shape, X.shape\n",
    "  Interp = scipy.interpolate.NearestNDInterpolator(X,S)\n",
    "  stage_v.append(Interp(splotter.nodes))\n",
    "  \n",
    "stage_v = np.array(stage_v)\n",
    "\n",
    "Interp = scipy.interpolate.NearestNDInterpolator(X,E)\n",
    "elev_v = Interp(splotter.nodes)\n",
    "\n",
    "from matplotlib.animation import FuncAnimation\n",
    "from mpl_toolkits.mplot3d import Axes3D\n",
    "\n",
    "fig = plt.figure();\n",
    "#fig, ax = plt.subplots()\n",
    "ax = plt.gca(projection='3d');\n",
    "\n",
    "def update_image(i):\n",
    "  ax.clear()\n",
    "  ax.plot_trisurf(splotter.triang, elev_v, color='navajowhite', edgecolors='none', antialiased=False, shade=True);\n",
    "  ax.plot_trisurf(splotter.triang, stage_v[i*step], color='dodgerblue', edgecolors='none', alpha=1.0, linewidth=0, antialiased=False, shade=True);\n",
    "  ax.set_zlim(elev_v.min(), np.max([stage_v.max(), elev_v.max()]));\n",
    "    \n",
    "\n",
    "# increase step to skip frames; increase interval to increase movie speed\n",
    "step = 4\n",
    "anim = FuncAnimation(fig, update_image, frames=len(splotter.depth)//step, interval=200);\n",
    "\n",
    "plt.close()\n",
    "\n",
    "anim"
   ]
  },
  {
   "cell_type": "code",
   "execution_count": null,
   "metadata": {
    "colab": {},
    "colab_type": "code",
    "id": "llOycSk7UlIA"
   },
   "outputs": [],
   "source": []
  }
 ],
 "metadata": {
  "colab": {
   "collapsed_sections": [],
   "include_colab_link": true,
   "name": "notebooks/notebook4.ipynb",
   "provenance": [],
   "version": "0.3.2"
  },
  "kernelspec": {
   "display_name": "Python 3",
   "language": "python",
   "name": "python3"
  },
  "language_info": {
   "codemirror_mode": {
    "name": "ipython",
    "version": 3
   },
   "file_extension": ".py",
   "mimetype": "text/x-python",
   "name": "python",
   "nbconvert_exporter": "python",
   "pygments_lexer": "ipython3",
   "version": "3.8.2"
  }
 },
 "nbformat": 4,
 "nbformat_minor": 4
}
